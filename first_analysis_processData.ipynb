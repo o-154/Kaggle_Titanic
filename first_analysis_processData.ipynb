{
 "cells": [
  {
   "cell_type": "code",
   "execution_count": 175,
   "id": "364c9787",
   "metadata": {},
   "outputs": [],
   "source": [
    "### モジュールのインポート\n",
    "import pandas as pd\n",
    "import numpy as np"
   ]
  },
  {
   "cell_type": "code",
   "execution_count": 176,
   "id": "4b10263f",
   "metadata": {},
   "outputs": [],
   "source": [
    "### 入出力データセットの名称\n",
    "## 入力データ\n",
    "gs_file = 'gender_submission.csv'\n",
    "test_file = 'test.csv'\n",
    "train_file = 'train.csv'\n",
    "\n",
    "##出力データ\n",
    "train_x_file = 'train_x.csv'\n",
    "train_y_file = 'train_y.csv'\n",
    "test_x_file = 'test_x.csv'"
   ]
  },
  {
   "cell_type": "code",
   "execution_count": 177,
   "id": "80d9122e",
   "metadata": {},
   "outputs": [],
   "source": [
    "### データのインポート\n",
    "df_gs = pd.read_csv('original_data/' + gs_file)\n",
    "df_test = pd.read_csv('original_data/' + test_file)\n",
    "df_train = pd.read_csv('original_data/' + train_file)"
   ]
  },
  {
   "cell_type": "code",
   "execution_count": 178,
   "id": "26809dfc",
   "metadata": {},
   "outputs": [],
   "source": [
    "### 学習データをxとyに分割\n",
    "train_y = df_train['Survived']\n",
    "train_x = df_train.drop(columns=['Survived'])"
   ]
  },
  {
   "cell_type": "code",
   "execution_count": 179,
   "id": "6fe2697c",
   "metadata": {},
   "outputs": [],
   "source": [
    "### 学習データとテストデータの結合\n",
    "all_x = pd.concat([train_x, df_test])"
   ]
  },
  {
   "cell_type": "markdown",
   "id": "9766da73",
   "metadata": {},
   "source": [
    "各カラムを加工する。\n",
    "カテゴリ変数化は最後にまとめて行う。"
   ]
  },
  {
   "cell_type": "code",
   "execution_count": 180,
   "id": "d303a7c3",
   "metadata": {},
   "outputs": [],
   "source": [
    "### PassengerID\n",
    "## 不要なので削除する\n",
    "all_x = all_x.drop(columns=['PassengerId'])"
   ]
  },
  {
   "cell_type": "code",
   "execution_count": 181,
   "id": "ad4d7a04",
   "metadata": {},
   "outputs": [],
   "source": [
    "### Survived\n",
    "pass"
   ]
  },
  {
   "cell_type": "code",
   "execution_count": 182,
   "id": "f31c96ba",
   "metadata": {},
   "outputs": [],
   "source": [
    "### Pclass\n",
    "pass"
   ]
  },
  {
   "cell_type": "code",
   "execution_count": 183,
   "id": "a675ada5",
   "metadata": {},
   "outputs": [],
   "source": [
    "### Name\n",
    "## 1. 苗字を抽出する\n",
    "# 最初のカンマまでの文字列を抽出する関数を定義する\n",
    "def extract_before_comma(name):\n",
    "    comma_index = name.find(\",\")\n",
    "    return name[:comma_index].strip() if comma_index != -1 else None\n",
    "# 新しいカラム 'FamilyName' に抽出結果を入れる\n",
    "all_x['FamilyName'] = all_x['Name'].apply(extract_before_comma)\n",
    "\n",
    "## 2. 同じ苗字の出現回数をカウントする\n",
    "all_x['SameFamilyName_Count'] = all_x.groupby('FamilyName')['FamilyName'].transform('count')\n",
    "\n",
    "## 3. Name列とFamilyName列を削除する\n",
    "all_x = all_x.drop(['Name', 'FamilyName'], axis=1)"
   ]
  },
  {
   "cell_type": "code",
   "execution_count": 184,
   "id": "a3cb9e7d",
   "metadata": {},
   "outputs": [],
   "source": [
    "### Sex\n",
    "pass"
   ]
  },
  {
   "cell_type": "code",
   "execution_count": 185,
   "id": "cf44c95c",
   "metadata": {},
   "outputs": [],
   "source": [
    "### Age\n",
    "pass"
   ]
  },
  {
   "cell_type": "code",
   "execution_count": 186,
   "id": "0c703e43",
   "metadata": {},
   "outputs": [],
   "source": [
    "### SibSp\n",
    "pass"
   ]
  },
  {
   "cell_type": "code",
   "execution_count": 187,
   "id": "6762de80",
   "metadata": {},
   "outputs": [],
   "source": [
    "### Parch\n",
    "pass"
   ]
  },
  {
   "cell_type": "code",
   "execution_count": 188,
   "id": "6a952080",
   "metadata": {},
   "outputs": [],
   "source": [
    "### Ticket\n",
    "## 1. 同じチケットの出現回数をカウントする\n",
    "all_x['SameTicket_Count'] = all_x.groupby('Ticket')['Ticket'].transform('count')\n",
    "\n",
    "## 2. Ticket列を削除する\n",
    "all_x = all_x.drop(columns=['Ticket'])"
   ]
  },
  {
   "cell_type": "code",
   "execution_count": 189,
   "id": "d406a38f",
   "metadata": {},
   "outputs": [],
   "source": [
    "### Fare\n",
    "pass"
   ]
  },
  {
   "cell_type": "code",
   "execution_count": 190,
   "id": "c740cd38",
   "metadata": {},
   "outputs": [],
   "source": [
    "### Cabin\n",
    "## 1. カラムの空白の有無をフラグ化\n",
    "all_x['Cabin_flag'] = all_x['Cabin'].apply(lambda x: 0 if pd.isna(x) or x == '' else 1)\n",
    "\n",
    "## 2. Cabin列を削除する\n",
    "all_x = all_x.drop(columns=['Cabin'])"
   ]
  },
  {
   "cell_type": "code",
   "execution_count": 191,
   "id": "1454aad8",
   "metadata": {},
   "outputs": [],
   "source": [
    "### Embarked\n",
    "all_x['Embarked'] = all_x['Embarked'].apply(lambda x: 'N' if pd.isna(x) or x == '' else x)"
   ]
  },
  {
   "cell_type": "code",
   "execution_count": 192,
   "id": "8aba2516",
   "metadata": {},
   "outputs": [],
   "source": [
    "### カテゴリ変数化\n",
    "## 対象：Sex, Cabin_flag, Embarked\n",
    "## 方法：get_dummies関数\n",
    "\n",
    "all_x = pd.get_dummies(all_x, columns=['Sex', 'Cabin_flag', 'Embarked'])"
   ]
  },
  {
   "cell_type": "code",
   "execution_count": 193,
   "id": "d9c2d31c",
   "metadata": {},
   "outputs": [],
   "source": [
    "### 学習データとテストデータに再分割（参考：Kaggleで勝つ P138）\n",
    "processed_train_x = all_x.iloc[:train_x.shape[0], :].reset_index(drop=True)\n",
    "processed_test_x = all_x.iloc[train_x.shape[0]:, :].reset_index(drop=True)"
   ]
  },
  {
   "cell_type": "code",
   "execution_count": null,
   "id": "1511b3e5",
   "metadata": {},
   "outputs": [],
   "source": [
    "### データをcsvで保存\n",
    "processed_train_x.to_csv('processed_data/' + train_x_file, index=False)\n",
    "train_y.to_csv('processed_data/' + train_y_file, index=False)\n",
    "processed_test_x.to_csv('processed_data/' + test_x_file, index=False)"
   ]
  }
 ],
 "metadata": {
  "kernelspec": {
   "display_name": "Python 3",
   "language": "python",
   "name": "python3"
  },
  "language_info": {
   "codemirror_mode": {
    "name": "ipython",
    "version": 3
   },
   "file_extension": ".py",
   "mimetype": "text/x-python",
   "name": "python",
   "nbconvert_exporter": "python",
   "pygments_lexer": "ipython3",
   "version": "3.9.6"
  }
 },
 "nbformat": 4,
 "nbformat_minor": 5
}
