{
 "cells": [
  {
   "cell_type": "code",
   "execution_count": 1,
   "id": "3ca79f90",
   "metadata": {},
   "outputs": [
    {
     "name": "stderr",
     "output_type": "stream",
     "text": [
      "/Users/keitaoikoshi/Library/Python/3.9/lib/python/site-packages/tqdm/auto.py:21: TqdmWarning: IProgress not found. Please update jupyter and ipywidgets. See https://ipywidgets.readthedocs.io/en/stable/user_install.html\n",
      "  from .autonotebook import tqdm as notebook_tqdm\n"
     ]
    }
   ],
   "source": [
    "### ライブラリのインポート\n",
    "import pandas as pd\n",
    "import numpy as np\n",
    "\n",
    "import matplotlib.pyplot as plt\n",
    "%matplotlib inline\n",
    "\n",
    "import seaborn as sns\n",
    "\n",
    "from sklearn.metrics import (\n",
    "    confusion_matrix,\n",
    "    accuracy_score,\n",
    "    precision_score,\n",
    "    recall_score,\n",
    "    f1_score\n",
    ")\n",
    "\n",
    "import lightgbm as lgb\n",
    "import optuna\n",
    "\n",
    "from sklearn.ensemble import RandomForestClassifier\n",
    "from sklearn.metrics import accuracy_score\n",
    "from sklearn.model_selection import train_test_split"
   ]
  },
  {
   "cell_type": "code",
   "execution_count": 2,
   "id": "4eed666f",
   "metadata": {},
   "outputs": [],
   "source": [
    "### 定数の定義\n",
    "## 入力データ\n",
    "gs_file = 'gender_submission.csv'\n",
    "test_file = 'test.csv'\n",
    "train_file = 'train.csv'\n",
    "## 出力データ\n",
    "result_file = 'second_analysis.csv'\n",
    "## 検証データの割合\n",
    "valid_size = 0.3     # 訓練：検証＝7:3"
   ]
  },
  {
   "cell_type": "code",
   "execution_count": 3,
   "id": "7d5ee259",
   "metadata": {},
   "outputs": [],
   "source": [
    "### データのインポート\n",
    "df_gs = pd.read_csv('original_data/' + gs_file)\n",
    "df_test = pd.read_csv('original_data/' + test_file)\n",
    "df_train = pd.read_csv('original_data/' + train_file)"
   ]
  },
  {
   "cell_type": "code",
   "execution_count": 4,
   "id": "55327a90",
   "metadata": {},
   "outputs": [],
   "source": [
    "### 学習データをxとyに分割\n",
    "train_y = df_train['Survived']\n",
    "train_x = df_train.drop(columns=['Survived'])"
   ]
  },
  {
   "cell_type": "code",
   "execution_count": 5,
   "id": "d06b9c37",
   "metadata": {},
   "outputs": [],
   "source": [
    "### 学習データとテストデータの結合\n",
    "all_x = pd.concat([train_x, df_test])"
   ]
  },
  {
   "cell_type": "code",
   "execution_count": 6,
   "id": "85825f8a",
   "metadata": {},
   "outputs": [],
   "source": [
    "### PassengerID\n",
    "## 不要なので削除する\n",
    "all_x = all_x.drop(columns=['PassengerId'])"
   ]
  },
  {
   "cell_type": "code",
   "execution_count": 7,
   "id": "e84148ae",
   "metadata": {},
   "outputs": [
    {
     "name": "stdout",
     "output_type": "stream",
     "text": [
      "<class 'pandas.core.frame.DataFrame'>\n",
      "Index: 1309 entries, 0 to 417\n",
      "Data columns (total 10 columns):\n",
      " #   Column    Non-Null Count  Dtype  \n",
      "---  ------    --------------  -----  \n",
      " 0   Pclass    1309 non-null   int64  \n",
      " 1   Name      1309 non-null   object \n",
      " 2   Sex       1309 non-null   object \n",
      " 3   Age       1046 non-null   float64\n",
      " 4   SibSp     1309 non-null   int64  \n",
      " 5   Parch     1309 non-null   int64  \n",
      " 6   Ticket    1309 non-null   object \n",
      " 7   Fare      1308 non-null   float64\n",
      " 8   Cabin     295 non-null    object \n",
      " 9   Embarked  1307 non-null   object \n",
      "dtypes: float64(2), int64(3), object(5)\n",
      "memory usage: 112.5+ KB\n"
     ]
    }
   ],
   "source": [
    "all_x.info()"
   ]
  },
  {
   "cell_type": "code",
   "execution_count": 8,
   "id": "a220d7fa",
   "metadata": {},
   "outputs": [],
   "source": [
    "### Survived\n",
    "pass"
   ]
  },
  {
   "cell_type": "code",
   "execution_count": 9,
   "id": "5ea6b6dd",
   "metadata": {},
   "outputs": [],
   "source": [
    "### Pclass\n",
    "pass"
   ]
  },
  {
   "cell_type": "code",
   "execution_count": 11,
   "id": "11470822",
   "metadata": {},
   "outputs": [],
   "source": [
    "### Name\n",
    "### Titleを抽出し、6つにマージする\n",
    "\n",
    "## 0. Titleの一覧を取得する\n",
    "# データの確認のために行う\n",
    "titles = set()\n",
    "for name in all_x['Name']:\n",
    "    titles.add(name.split(',')[1].split('.')[0].strip())\n",
    "\n",
    "## 1. NameとTitleの対応表を作る\n",
    "Title_Dictionary = {\n",
    "    \"Capt\": \"Officer\",\n",
    "    \"Col\": \"Officer\",\n",
    "    \"Major\": \"Officer\",\n",
    "    \"Jonkheer\": \"Royalty\",\n",
    "    \"Don\": \"Royalty\",\n",
    "    \"Sir\" : \"Royalty\",\n",
    "    \"Dr\": \"Officer\",\n",
    "    \"Rev\": \"Officer\",\n",
    "    \"the Countess\":\"Royalty\",\n",
    "    \"Mme\": \"Mrs\",\n",
    "    \"Mlle\": \"Miss\",\n",
    "    \"Ms\": \"Mrs\",\n",
    "    \"Mr\" : \"Mr\",\n",
    "    \"Mrs\" : \"Mrs\",\n",
    "    \"Miss\" : \"Miss\",\n",
    "    \"Master\" : \"Master\",\n",
    "    \"Lady\" : \"Royalty\"\n",
    "}\n",
    "\n",
    "## 2. Name→Titleの変換関数を定義する\n",
    "def get_titles():\n",
    "    # 名前からTitleを取得する\n",
    "    all_x['Title'] = all_x['Name'].map(lambda name:name.split(',')[1].split('.')[0].strip())\n",
    "    # 辞書を使って変換する\n",
    "    all_x['Title'] = all_x.Title.map(Title_Dictionary)\n",
    "    return all_x\n",
    "\n",
    "## 3. 実際に変換する\n",
    "all_x = get_titles()\n",
    "\n",
    "## 4. Name列を削除する\n",
    "all_x = all_x.drop(['Name'], axis=1)\n"
   ]
  },
  {
   "cell_type": "code",
   "execution_count": 12,
   "id": "0816727a",
   "metadata": {},
   "outputs": [],
   "source": [
    "### Sex\n",
    "pass"
   ]
  },
  {
   "cell_type": "code",
   "execution_count": null,
   "id": "537ddd67",
   "metadata": {},
   "outputs": [],
   "source": [
    "### Age\n",
    "\n",
    "## 1. 3カラムをキーにグループ化し、各グループの年齢の中央値を求める\n",
    "grouped_train = all_x.iloc[:891].groupby(['Sex','Pclass','Title'])\n",
    "grouped_median_train = grouped_train.Age.median()\n",
    "grouped_median_train = grouped_median_train.reset_index()[['Sex', 'Pclass', 'Title', 'Age']]\n",
    "# 最大でも高々36通りなので、全部可視化してみる\n",
    "# print(grouped_median_train)\n",
    "\n",
    "## 2. 各行の3カラムの組み合わせに対応する年齢の中央値を返す関数を定義する\n",
    "def fill_age(row):\n",
    "    condition = (\n",
    "        (grouped_median_train['Sex'] == row['Sex']) & \n",
    "        (grouped_median_train['Title'] == row['Title']) & \n",
    "        (grouped_median_train['Pclass'] == row['Pclass'])\n",
    "    ) \n",
    "    return grouped_median_train[condition]['Age'].values[0]\n",
    "\n",
    "## 3. 2を使って欠損値補完する\n",
    "def process_age():\n",
    "    global all_x\n",
    "    # a function that fills the missing values of the Age variable\n",
    "    all_x['Age'] = all_x.apply(lambda row: fill_age(row) if np.isnan(row['Age']) else row['Age'], axis=1)\n",
    "    return all_x\n",
    "\n",
    "## 4. 処理を実行する\n",
    "all_x = process_age()"
   ]
  },
  {
   "cell_type": "code",
   "execution_count": 18,
   "id": "1cbd7b46",
   "metadata": {},
   "outputs": [
    {
     "ename": "TypeError",
     "evalue": "'function' object is not subscriptable",
     "output_type": "error",
     "traceback": [
      "\u001b[0;31m---------------------------------------------------------------------------\u001b[0m",
      "\u001b[0;31mTypeError\u001b[0m                                 Traceback (most recent call last)",
      "Cell \u001b[0;32mIn[18], line 8\u001b[0m\n\u001b[1;32m      6\u001b[0m     all_x[\u001b[38;5;124m'\u001b[39m\u001b[38;5;124mFamilySize\u001b[39m\u001b[38;5;124m'\u001b[39m] \u001b[38;5;241m=\u001b[39m all_x[\u001b[38;5;124m'\u001b[39m\u001b[38;5;124mSibSp\u001b[39m\u001b[38;5;124m'\u001b[39m] \u001b[38;5;241m+\u001b[39m all_x[\u001b[38;5;124m'\u001b[39m\u001b[38;5;124mParch\u001b[39m\u001b[38;5;124m'\u001b[39m] \u001b[38;5;241m+\u001b[39m \u001b[38;5;241m1\u001b[39m\n\u001b[1;32m      7\u001b[0m     \u001b[38;5;28;01mreturn\u001b[39;00m all_x\n\u001b[0;32m----> 8\u001b[0m all_x \u001b[38;5;241m=\u001b[39m \u001b[43mprocess_family\u001b[49m\u001b[43m(\u001b[49m\u001b[43m)\u001b[49m\n",
      "Cell \u001b[0;32mIn[18], line 6\u001b[0m, in \u001b[0;36mprocess_family\u001b[0;34m()\u001b[0m\n\u001b[1;32m      4\u001b[0m \u001b[38;5;28;01mdef\u001b[39;00m\u001b[38;5;250m \u001b[39m\u001b[38;5;21mprocess_family\u001b[39m():\n\u001b[1;32m      5\u001b[0m     \u001b[38;5;28;01mglobal\u001b[39;00m all_x\n\u001b[0;32m----> 6\u001b[0m     all_x[\u001b[38;5;124m'\u001b[39m\u001b[38;5;124mFamilySize\u001b[39m\u001b[38;5;124m'\u001b[39m] \u001b[38;5;241m=\u001b[39m \u001b[43mall_x\u001b[49m\u001b[43m[\u001b[49m\u001b[38;5;124;43m'\u001b[39;49m\u001b[38;5;124;43mSibSp\u001b[39;49m\u001b[38;5;124;43m'\u001b[39;49m\u001b[43m]\u001b[49m \u001b[38;5;241m+\u001b[39m all_x[\u001b[38;5;124m'\u001b[39m\u001b[38;5;124mParch\u001b[39m\u001b[38;5;124m'\u001b[39m] \u001b[38;5;241m+\u001b[39m \u001b[38;5;241m1\u001b[39m\n\u001b[1;32m      7\u001b[0m     \u001b[38;5;28;01mreturn\u001b[39;00m all_x\n",
      "\u001b[0;31mTypeError\u001b[0m: 'function' object is not subscriptable"
     ]
    }
   ],
   "source": [
    "### SibSp\n",
    "### Parch\n",
    "## まとめてFamily_sizeカラムを作成する\n",
    "def process_family():\n",
    "    global all_x\n",
    "    all_x['FamilySize'] = all_x['SibSp'] + all_x['Parch'] + 1\n",
    "    return all_x\n",
    "all_x = process_family()"
   ]
  },
  {
   "cell_type": "code",
   "execution_count": 129,
   "id": "8fff1dd0",
   "metadata": {},
   "outputs": [],
   "source": [
    "### Ticket\n",
    "## 1. 同じチケットの出現回数をカウントする\n",
    "all_x['SameTicket_Count'] = all_x.groupby('Ticket')['Ticket'].transform('count')\n",
    "\n",
    "## 2. Ticket列を削除する\n",
    "all_x = all_x.drop(columns=['Ticket'])"
   ]
  },
  {
   "cell_type": "code",
   "execution_count": null,
   "id": "111c0698",
   "metadata": {},
   "outputs": [],
   "source": [
    "### Fare\n",
    "## 全体の平均値補間でする\n",
    "def process_fares():\n",
    "    global all_x\n",
    "    all_x.Fare.fillna(all_x.iloc[:891].Fare.mean(), inplace=True)\n",
    "    return all_x\n",
    "all_x = process_fares()"
   ]
  },
  {
   "cell_type": "code",
   "execution_count": null,
   "id": "6dd4fa26",
   "metadata": {},
   "outputs": [],
   "source": [
    "### Cabin\n",
    "## 1文字目を採用する\n",
    "def process_cabin():\n",
    "    global all_x\n",
    "    # 1. 欠損値を'U'で補間する\n",
    "    all_x['Cabin'].fillna('U', inplace=True)\n",
    "    # 2. カラムの内容を、1文字目に変換する\n",
    "    all_x['Cabin'] = all_x['Cabin'].map(lambda c: c[0])\n",
    "\n",
    "    return all_x\n",
    "\n",
    "all_x = process_cabin"
   ]
  },
  {
   "cell_type": "code",
   "execution_count": 132,
   "id": "8d3913ac",
   "metadata": {},
   "outputs": [],
   "source": [
    "### Embarked\n",
    "## 欠損値フラグ\n",
    "all_x['Embarked'] = all_x['Embarked'].apply(lambda x: 'N' if pd.isna(x) or x == '' else x)"
   ]
  },
  {
   "cell_type": "code",
   "execution_count": 133,
   "id": "d9c6c003",
   "metadata": {},
   "outputs": [],
   "source": [
    "### カテゴリ変数化\n",
    "## 対象：Sex, Cabin_flag, Embarked\n",
    "## 方法：get_dummies関数\n",
    "\n",
    "all_x = pd.get_dummies(all_x, columns=['Sex', 'Cabin_flag', 'Embarked', 'Title', 'Pclass'])"
   ]
  },
  {
   "cell_type": "code",
   "execution_count": 134,
   "id": "3730d8e5",
   "metadata": {},
   "outputs": [],
   "source": [
    "### 学習データとテストデータに再分割（参考：Kaggleで勝つ P138）\n",
    "processed_train_x = all_x.iloc[:train_x.shape[0], :].reset_index(drop=True)\n",
    "processed_test_x = all_x.iloc[train_x.shape[0]:, :].reset_index(drop=True)"
   ]
  },
  {
   "cell_type": "markdown",
   "id": "8b4358f3",
   "metadata": {},
   "source": [
    "ここから分析"
   ]
  },
  {
   "cell_type": "code",
   "execution_count": 135,
   "id": "a5bcc7df",
   "metadata": {},
   "outputs": [],
   "source": [
    "### 混交行列の可視化関数\n",
    "def heat_map(cm):\n",
    "    cm_matrix = pd.DataFrame(data=cm,columns=['Actual Positive:1','Actual Negative:0'],\n",
    "                            index=['Predict Positive:1','Predict Negative:0'])\n",
    "    \n",
    "    # ヒートマップで描画\n",
    "    plt.figure(figsize=(3, 3))\n",
    "    heatmap = sns.heatmap(cm_matrix, annot=True, fmt='d',cmap='coolwarm')\n",
    "    # heatmap.set_title('混同行列',fontsize=20)\n",
    "    heatmap.set_xticks([0.5,1.5])\n",
    "    heatmap.set_xlabel('予測',fontsize=15)\n",
    "    heatmap.set_xticklabels(['Negative:0','Positive:1'],fontsize=12)\n",
    "    heatmap.set_ylabel('真値',fontsize=15)\n",
    "    heatmap.set_yticks([0.5,1.5])\n",
    "    heatmap.set_yticklabels(['Negative:0','Positive:1'],fontsize=12)"
   ]
  },
  {
   "cell_type": "code",
   "execution_count": 136,
   "id": "62fc9562",
   "metadata": {},
   "outputs": [],
   "source": [
    "### データの分割\n",
    "x_train, x_valid, y_train, y_valid = train_test_split(\n",
    "    processed_train_x, train_y,          # 入力とラベル\n",
    "    test_size=valid_size,             # 検証データの割合（30%）\n",
    "    random_state=42,           # 乱数シード（再現性のため）\n",
    "    shuffle=True               # シャッフルして分割（デフォルトTrue）\n",
    ")"
   ]
  },
  {
   "cell_type": "code",
   "execution_count": 137,
   "id": "268bfa96",
   "metadata": {},
   "outputs": [],
   "source": [
    "### optunaの準備\n",
    "## 評価指標はaccuracy\n",
    "def objective_gbdt(trial):\n",
    "\n",
    "    lgb_train = lgb.Dataset(x_train, y_train)\n",
    "    lgb_test = lgb.Dataset(x_valid, y_valid, reference=lgb_train)\n",
    "    \n",
    "    param = {\n",
    "        'task': 'train',\n",
    "        'boosting_type': 'gbdt',\n",
    "        'objective': 'binary',\n",
    "        'metric': {'binary_error'},#binary_error\n",
    "\n",
    "        'lambda_l1'         : trial.suggest_float('lambda_l1', 1e-8, 1.0, log=True),\n",
    "        'lambda_l2'         : trial.suggest_float('lambda_l2', 1e-8, 1.0, log=True),\n",
    "        'learning_rate': trial.suggest_float('learning_rate', 0.1, 1.0),\n",
    "        'num_leaves': trial.suggest_int('num_leaves', 2, 256),\n",
    "        'feature_fraction': trial.suggest_float('feature_fraction', 0.4, 1.0),\n",
    "        'bagging_fraction': trial.suggest_float('bagging_fraction', 0.4, 1.0),\n",
    "        'bagging_freq': trial.suggest_int('bagging_freq', 1, 7),\n",
    "        'min_child_samples': trial.suggest_int('min_child_samples', 1, 50),\n",
    "\n",
    "        'force_col_wise':True,\n",
    "        'random_state': 0,\n",
    "        }\n",
    "    \n",
    "    \n",
    "    model = lgb.train(\n",
    "        params=param,\n",
    "        train_set=lgb_train,\n",
    "        valid_sets=[lgb_test],\n",
    "        valid_names=['Test'],\n",
    "        num_boost_round=100,\n",
    "        callbacks=[\n",
    "            lgb.early_stopping(stopping_rounds=50, verbose=False),  # ログなしで early stopping\n",
    "            lgb.log_evaluation(0)  # ログ完全オフ\n",
    "        ]\n",
    "    )\n",
    "\n",
    "    \n",
    "    # 推論\n",
    "    pred = model.predict(x_valid, num_iteration=model.best_iteration)\n",
    "    y_pred = np.where(pred < 0.5, 0, 1) # 0.5より小さい場合0 ,そうでない場合1を返す\n",
    "\n",
    "    # 評価\n",
    "    #＝＝＝＝＝＝＝＝＝＝＝利用したい評価指標に変更＝＝＝＝＝＝＝＝＝＝＝＝＝＝＝\n",
    "    score = accuracy_score(y_valid, y_pred)\n",
    "\n",
    "    return score"
   ]
  },
  {
   "cell_type": "code",
   "execution_count": null,
   "id": "07f705ce",
   "metadata": {},
   "outputs": [],
   "source": [
    "### optunaの実行\n",
    "study = optuna.create_study(direction='maximize',sampler=optuna.samplers.TPESampler(seed=42))\n",
    "study.optimize(objective_gbdt, n_trials=200)\n",
    "\n",
    "print(\"=======ベストパラメータ========\")\n",
    "print(study.best_params)"
   ]
  },
  {
   "cell_type": "code",
   "execution_count": 139,
   "id": "5f2ac67f",
   "metadata": {},
   "outputs": [
    {
     "name": "stdout",
     "output_type": "stream",
     "text": [
      "[LightGBM] [Info] Number of positive: 231, number of negative: 392\n",
      "[LightGBM] [Info] Total Bins 216\n",
      "[LightGBM] [Info] Number of data points in the train set: 623, number of used features: 19\n",
      "[LightGBM] [Info] [binary:BoostFromScore]: pavg=0.370787 -> initscore=-0.528844\n",
      "[LightGBM] [Info] Start training from score -0.528844\n",
      "[LightGBM] [Warning] No further splits with positive gain, best gain: -inf\n",
      "Training until validation scores don't improve for 50 rounds\n",
      "[LightGBM] [Warning] No further splits with positive gain, best gain: -inf\n",
      "[LightGBM] [Warning] No further splits with positive gain, best gain: -inf\n",
      "[LightGBM] [Warning] No further splits with positive gain, best gain: -inf\n",
      "[LightGBM] [Warning] No further splits with positive gain, best gain: -inf\n",
      "[LightGBM] [Warning] No further splits with positive gain, best gain: -inf\n",
      "[LightGBM] [Warning] No further splits with positive gain, best gain: -inf\n",
      "[LightGBM] [Warning] No further splits with positive gain, best gain: -inf\n",
      "[LightGBM] [Warning] No further splits with positive gain, best gain: -inf\n",
      "[LightGBM] [Warning] No further splits with positive gain, best gain: -inf\n",
      "[10]\tTrain's binary_error: 0.142857\tValidation's binary_error: 0.179104\n",
      "[LightGBM] [Warning] No further splits with positive gain, best gain: -inf\n",
      "[LightGBM] [Warning] No further splits with positive gain, best gain: -inf\n",
      "[LightGBM] [Warning] No further splits with positive gain, best gain: -inf\n",
      "[LightGBM] [Warning] No further splits with positive gain, best gain: -inf\n",
      "[LightGBM] [Warning] No further splits with positive gain, best gain: -inf\n",
      "[LightGBM] [Warning] No further splits with positive gain, best gain: -inf\n",
      "[LightGBM] [Warning] No further splits with positive gain, best gain: -inf\n",
      "[LightGBM] [Warning] No further splits with positive gain, best gain: -inf\n",
      "[LightGBM] [Warning] No further splits with positive gain, best gain: -inf\n",
      "[LightGBM] [Warning] No further splits with positive gain, best gain: -inf\n",
      "[20]\tTrain's binary_error: 0.120385\tValidation's binary_error: 0.175373\n",
      "[LightGBM] [Warning] No further splits with positive gain, best gain: -inf\n",
      "[LightGBM] [Warning] No further splits with positive gain, best gain: -inf\n",
      "[LightGBM] [Warning] No further splits with positive gain, best gain: -inf\n",
      "[LightGBM] [Warning] No further splits with positive gain, best gain: -inf\n",
      "[LightGBM] [Warning] No further splits with positive gain, best gain: -inf\n",
      "[LightGBM] [Warning] No further splits with positive gain, best gain: -inf\n",
      "[LightGBM] [Warning] No further splits with positive gain, best gain: -inf\n",
      "[LightGBM] [Warning] No further splits with positive gain, best gain: -inf\n",
      "[LightGBM] [Warning] No further splits with positive gain, best gain: -inf\n",
      "[LightGBM] [Warning] No further splits with positive gain, best gain: -inf\n",
      "[30]\tTrain's binary_error: 0.101124\tValidation's binary_error: 0.16791\n",
      "[LightGBM] [Warning] No further splits with positive gain, best gain: -inf\n",
      "[LightGBM] [Warning] No further splits with positive gain, best gain: -inf\n",
      "[LightGBM] [Warning] No further splits with positive gain, best gain: -inf\n",
      "[LightGBM] [Warning] No further splits with positive gain, best gain: -inf\n",
      "[LightGBM] [Warning] No further splits with positive gain, best gain: -inf\n",
      "[LightGBM] [Warning] No further splits with positive gain, best gain: -inf\n",
      "[LightGBM] [Warning] No further splits with positive gain, best gain: -inf\n",
      "[LightGBM] [Warning] No further splits with positive gain, best gain: -inf\n",
      "[LightGBM] [Warning] No further splits with positive gain, best gain: -inf\n",
      "[LightGBM] [Warning] No further splits with positive gain, best gain: -inf\n",
      "[40]\tTrain's binary_error: 0.0834671\tValidation's binary_error: 0.186567\n",
      "[LightGBM] [Warning] No further splits with positive gain, best gain: -inf\n",
      "[LightGBM] [Warning] No further splits with positive gain, best gain: -inf\n",
      "[LightGBM] [Warning] No further splits with positive gain, best gain: -inf\n",
      "[LightGBM] [Warning] No further splits with positive gain, best gain: -inf\n",
      "[LightGBM] [Warning] No further splits with positive gain, best gain: -inf\n",
      "[LightGBM] [Warning] No further splits with positive gain, best gain: -inf\n",
      "[LightGBM] [Warning] No further splits with positive gain, best gain: -inf\n",
      "[LightGBM] [Warning] No further splits with positive gain, best gain: -inf\n",
      "[LightGBM] [Warning] No further splits with positive gain, best gain: -inf\n",
      "[LightGBM] [Warning] No further splits with positive gain, best gain: -inf\n",
      "[50]\tTrain's binary_error: 0.0738363\tValidation's binary_error: 0.190299\n",
      "[LightGBM] [Warning] No further splits with positive gain, best gain: -inf\n",
      "[LightGBM] [Warning] No further splits with positive gain, best gain: -inf\n",
      "[LightGBM] [Warning] No further splits with positive gain, best gain: -inf\n",
      "[LightGBM] [Warning] No further splits with positive gain, best gain: -inf\n",
      "[LightGBM] [Warning] No further splits with positive gain, best gain: -inf\n",
      "[LightGBM] [Warning] No further splits with positive gain, best gain: -inf\n",
      "[LightGBM] [Warning] No further splits with positive gain, best gain: -inf\n",
      "[LightGBM] [Warning] No further splits with positive gain, best gain: -inf\n",
      "[LightGBM] [Warning] No further splits with positive gain, best gain: -inf\n",
      "[LightGBM] [Warning] No further splits with positive gain, best gain: -inf\n",
      "[60]\tTrain's binary_error: 0.0786517\tValidation's binary_error: 0.201493\n",
      "[LightGBM] [Warning] No further splits with positive gain, best gain: -inf\n",
      "[LightGBM] [Warning] No further splits with positive gain, best gain: -inf\n",
      "[LightGBM] [Warning] No further splits with positive gain, best gain: -inf\n",
      "[LightGBM] [Warning] No further splits with positive gain, best gain: -inf\n",
      "Early stopping, best iteration is:\n",
      "[14]\tTrain's binary_error: 0.130016\tValidation's binary_error: 0.145522\n"
     ]
    }
   ],
   "source": [
    "### 調整したパラメータで学習\n",
    "lgb_train = lgb.Dataset(x_train, y_train)\n",
    "lgb_test = lgb.Dataset(x_valid, y_valid, reference=lgb_train)\n",
    "\n",
    "param = {\n",
    "    'task': 'train',\n",
    "    'boosting_type': 'gbdt',\n",
    "    'objective': 'binary',\n",
    "    'metric': {'binary_error'},#binary_error\n",
    "    'force_col_wise':True,\n",
    "    'random_state': 0,\n",
    "    }\n",
    "param.update(study.best_params)\n",
    "\n",
    "model = lgb.train(\n",
    "                # **study.best_params,              # ハイパーパラメータをセット\n",
    "                params=param,\n",
    "                \n",
    "\n",
    "                train_set=lgb_train,              # 訓練データを訓練用にセット\n",
    "                valid_sets=[lgb_train, lgb_test], # 訓練データとテストデータをセット\n",
    "                valid_names=['Train', 'Validation'],    # データセットの名前をそれぞれ設定\n",
    "                num_boost_round=100,              # 計算回数\n",
    "                callbacks=[lgb.early_stopping(stopping_rounds=50, verbose=1),\n",
    "                           lgb.log_evaluation(10),],         # アーリーストッピング設定\n",
    "\n",
    "                # evals_result=lgb_results,\n",
    "                # verbose_eval=-1,                  # ログを最後の1つだけ表示\n",
    "                )\n",
    "\n",
    "\n",
    "# prediction\n",
    "pred = model.predict(x_valid, num_iteration=model.best_iteration)\n",
    "y_pred = np.where(pred < 0.5, 0, 1) # 0.5より小さい場合0 ,そうでない場合1を返す"
   ]
  },
  {
   "cell_type": "code",
   "execution_count": 140,
   "id": "2ff0324c",
   "metadata": {},
   "outputs": [
    {
     "name": "stderr",
     "output_type": "stream",
     "text": [
      "/Users/keitaoikoshi/Library/Python/3.9/lib/python/site-packages/IPython/core/pylabtools.py:152: UserWarning: Glyph 20104 (\\N{CJK UNIFIED IDEOGRAPH-4E88}) missing from font(s) DejaVu Sans.\n",
      "  fig.canvas.print_figure(bytes_io, **kw)\n",
      "/Users/keitaoikoshi/Library/Python/3.9/lib/python/site-packages/IPython/core/pylabtools.py:152: UserWarning: Glyph 28204 (\\N{CJK UNIFIED IDEOGRAPH-6E2C}) missing from font(s) DejaVu Sans.\n",
      "  fig.canvas.print_figure(bytes_io, **kw)\n",
      "/Users/keitaoikoshi/Library/Python/3.9/lib/python/site-packages/IPython/core/pylabtools.py:152: UserWarning: Glyph 30495 (\\N{CJK UNIFIED IDEOGRAPH-771F}) missing from font(s) DejaVu Sans.\n",
      "  fig.canvas.print_figure(bytes_io, **kw)\n",
      "/Users/keitaoikoshi/Library/Python/3.9/lib/python/site-packages/IPython/core/pylabtools.py:152: UserWarning: Glyph 20516 (\\N{CJK UNIFIED IDEOGRAPH-5024}) missing from font(s) DejaVu Sans.\n",
      "  fig.canvas.print_figure(bytes_io, **kw)\n"
     ]
    },
    {
     "data": {
      "image/png": "[encoded data removed]",
      "text/plain": [
       "<Figure size 300x300 with 2 Axes>"
      ]
     },
     "metadata": {},
     "output_type": "display_data"
    }
   ],
   "source": [
    "### 混合行列の可視化\n",
    "# cm = confusion_matrix(y_valid,y_pred)\n",
    "cm = confusion_matrix(y_pred=y_pred,y_true=y_valid)\n",
    "heat_map(cm)\n",
    "plt.xticks(rotation=90)\n",
    "plt.show()"
   ]
  },
  {
   "cell_type": "code",
   "execution_count": 141,
   "id": "53023d22",
   "metadata": {},
   "outputs": [
    {
     "data": {
      "text/plain": [
       "<Axes: title={'center': 'Feature importance'}, xlabel='Feature importance', ylabel='Features'>"
      ]
     },
     "execution_count": 141,
     "metadata": {},
     "output_type": "execute_result"
    },
    {
     "data": {
      "image/png": "[encoded data removed]",
      "text/plain": [
       "<Figure size 400x800 with 1 Axes>"
      ]
     },
     "metadata": {},
     "output_type": "display_data"
    }
   ],
   "source": [
    "### 特徴量重要度の可視化\n",
    "plt.rcParams[\"font.size\"] = 8\n",
    "lgb.plot_importance(model, height = 0.5, figsize = (4,8),)"
   ]
  },
  {
   "cell_type": "code",
   "execution_count": 142,
   "id": "d2d80742",
   "metadata": {},
   "outputs": [],
   "source": [
    "### 予測の実行\n",
    "pred_test = model.predict(processed_test_x, num_iteration=model.best_iteration)\n",
    "y_pred_test = np.where(pred_test < 0.5, 0, 1)"
   ]
  },
  {
   "cell_type": "code",
   "execution_count": 143,
   "id": "6b610c97",
   "metadata": {},
   "outputs": [],
   "source": [
    "y_test_df = pd.DataFrame(y_pred_test, columns=['Survived'])"
   ]
  },
  {
   "cell_type": "code",
   "execution_count": 144,
   "id": "c756d9df",
   "metadata": {},
   "outputs": [],
   "source": [
    "result_df = pd.concat([df_test['PassengerId'], y_test_df], axis=1)"
   ]
  },
  {
   "cell_type": "code",
   "execution_count": 145,
   "id": "d91b0da9",
   "metadata": {},
   "outputs": [
    {
     "data": {
      "text/html": [
       "<div>\n",
       "<style scoped>\n",
       "    .dataframe tbody tr th:only-of-type {\n",
       "        vertical-align: middle;\n",
       "    }\n",
       "\n",
       "    .dataframe tbody tr th {\n",
       "        vertical-align: top;\n",
       "    }\n",
       "\n",
       "    .dataframe thead th {\n",
       "        text-align: right;\n",
       "    }\n",
       "</style>\n",
       "<table border=\"1\" class=\"dataframe\">\n",
       "  <thead>\n",
       "    <tr style=\"text-align: right;\">\n",
       "      <th></th>\n",
       "      <th>PassengerId</th>\n",
       "      <th>Survived</th>\n",
       "    </tr>\n",
       "  </thead>\n",
       "  <tbody>\n",
       "    <tr>\n",
       "      <th>0</th>\n",
       "      <td>892</td>\n",
       "      <td>0</td>\n",
       "    </tr>\n",
       "    <tr>\n",
       "      <th>1</th>\n",
       "      <td>893</td>\n",
       "      <td>0</td>\n",
       "    </tr>\n",
       "    <tr>\n",
       "      <th>2</th>\n",
       "      <td>894</td>\n",
       "      <td>0</td>\n",
       "    </tr>\n",
       "    <tr>\n",
       "      <th>3</th>\n",
       "      <td>895</td>\n",
       "      <td>0</td>\n",
       "    </tr>\n",
       "    <tr>\n",
       "      <th>4</th>\n",
       "      <td>896</td>\n",
       "      <td>0</td>\n",
       "    </tr>\n",
       "    <tr>\n",
       "      <th>...</th>\n",
       "      <td>...</td>\n",
       "      <td>...</td>\n",
       "    </tr>\n",
       "    <tr>\n",
       "      <th>413</th>\n",
       "      <td>1305</td>\n",
       "      <td>0</td>\n",
       "    </tr>\n",
       "    <tr>\n",
       "      <th>414</th>\n",
       "      <td>1306</td>\n",
       "      <td>1</td>\n",
       "    </tr>\n",
       "    <tr>\n",
       "      <th>415</th>\n",
       "      <td>1307</td>\n",
       "      <td>0</td>\n",
       "    </tr>\n",
       "    <tr>\n",
       "      <th>416</th>\n",
       "      <td>1308</td>\n",
       "      <td>0</td>\n",
       "    </tr>\n",
       "    <tr>\n",
       "      <th>417</th>\n",
       "      <td>1309</td>\n",
       "      <td>1</td>\n",
       "    </tr>\n",
       "  </tbody>\n",
       "</table>\n",
       "<p>418 rows × 2 columns</p>\n",
       "</div>"
      ],
      "text/plain": [
       "     PassengerId  Survived\n",
       "0            892         0\n",
       "1            893         0\n",
       "2            894         0\n",
       "3            895         0\n",
       "4            896         0\n",
       "..           ...       ...\n",
       "413         1305         0\n",
       "414         1306         1\n",
       "415         1307         0\n",
       "416         1308         0\n",
       "417         1309         1\n",
       "\n",
       "[418 rows x 2 columns]"
      ]
     },
     "execution_count": 145,
     "metadata": {},
     "output_type": "execute_result"
    }
   ],
   "source": [
    "result_df"
   ]
  },
  {
   "cell_type": "code",
   "execution_count": 147,
   "id": "7de10677",
   "metadata": {},
   "outputs": [],
   "source": [
    "result_df.to_csv('processed_data/' + result_file, index=False)"
   ]
  },
  {
   "cell_type": "code",
   "execution_count": null,
   "id": "40bf9e8d",
   "metadata": {},
   "outputs": [],
   "source": []
  }
 ],
 "metadata": {
  "kernelspec": {
   "display_name": "Python 3",
   "language": "python",
   "name": "python3"
  },
  "language_info": {
   "codemirror_mode": {
    "name": "ipython",
    "version": 3
   },
   "file_extension": ".py",
   "mimetype": "text/x-python",
   "name": "python",
   "nbconvert_exporter": "python",
   "pygments_lexer": "ipython3",
   "version": "3.9.6"
  }
 },
 "nbformat": 4,
 "nbformat_minor": 5
}
