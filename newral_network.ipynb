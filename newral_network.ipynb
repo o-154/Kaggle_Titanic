{
 "cells": [
  {
   "cell_type": "code",
   "execution_count": 1,
   "id": "fa4854df",
   "metadata": {},
   "outputs": [],
   "source": [
    "import pandas as pd\n",
    "from functions import process_datasets\n",
    "\n",
    "### 入出力データセットの名称\n",
    "## 入力データ\n",
    "train_file = 'train.csv'\n",
    "test_file = 'test.csv'\n",
    "\n",
    "### データのインポート\n",
    "df_train = pd.read_csv('original_data/' + train_file)\n",
    "df_test = pd.read_csv('original_data/' + test_file)\n",
    "original_datasets = [df_train, df_test]\n",
    "\n",
    "### データ加工の実施\n",
    "model_input_datasets = []\n",
    "model_input_datasets.append(process_datasets.pattern_1(*original_datasets))\n",
    "model_input_datasets.append(process_datasets.pattern_2(*original_datasets))\n",
    "model_input_datasets.append(process_datasets.pattern_3(*original_datasets))"
   ]
  },
  {
   "cell_type": "code",
   "execution_count": 2,
   "id": "9693e69e",
   "metadata": {},
   "outputs": [],
   "source": [
    "## 準備\n",
    "i = 2\n",
    "model_name = 'newral_network'\n",
    "response_variable_name = 'Survived'\n",
    "\n",
    "x_train_val = model_input_datasets[i][0]\n",
    "y_train_val = model_input_datasets[i][1]\n",
    "x_test = model_input_datasets[i][2]\n",
    "id_test = model_input_datasets[i][3] # for submitting result\n",
    "\n",
    "## boolをintに変換する\n",
    "x_train_val = process_datasets.bool_to_int(x_train_val)\n",
    "x_test = process_datasets.bool_to_int(x_test)"
   ]
  },
  {
   "cell_type": "code",
   "execution_count": 3,
   "id": "a0c6b52b",
   "metadata": {},
   "outputs": [
    {
     "name": "stderr",
     "output_type": "stream",
     "text": [
      "/Users/keitaoikoshi/Library/Python/3.9/lib/python/site-packages/urllib3/__init__.py:35: NotOpenSSLWarning: urllib3 v2 only supports OpenSSL 1.1.1+, currently the 'ssl' module is compiled with 'LibreSSL 2.8.3'. See: https://github.com/urllib3/urllib3/issues/3020\n",
      "  warnings.warn(\n"
     ]
    }
   ],
   "source": [
    "import numpy as np\n",
    "import pandas as pd\n",
    "from sklearn.model_selection import train_test_split\n",
    "from sklearn.metrics import accuracy_score\n",
    "\n",
    "import tensorflow as tf\n",
    "from tensorflow.keras.models import Sequential\n",
    "from tensorflow.keras.layers import Dense, Dropout\n",
    "from tensorflow.keras.callbacks import EarlyStopping"
   ]
  },
  {
   "cell_type": "code",
   "execution_count": null,
   "id": "e36ce942",
   "metadata": {},
   "outputs": [],
   "source": []
  },
  {
   "cell_type": "code",
   "execution_count": null,
   "id": "7a51d3a5",
   "metadata": {},
   "outputs": [],
   "source": [
    "# from keras.layers import Dense, Dropout\n",
    "# from keras.models import Sequential\n",
    "# from sklearn.metrics import log_loss\n",
    "# from sklearn.preprocessing import StandarScaler\n",
    "\n",
    "# # データの分割\n",
    "# from sklearn.model_selection import train_test_split\n",
    "# # データを学習用、検証用に分割する(乱数シードを0、検証データの割合を0.3に指定)\n",
    "# x_train,x_val,y_train,y_val = train_test_split(\\\n",
    "#     x_train_val, y_train_val, test_size=0.3, random_state=0\\\n",
    "#       )\n",
    "\n",
    "# # データのスケーリング\n",
    "# scaler = StandarScaler()\n",
    "# x_train = scaler.fit_transform(x_train)\n",
    "# x_val = scaler.transform(x_val)\n",
    "# x_test = scaler.transform(x_test)\n",
    "\n",
    "# # ニューラルネットモデルの構築\n",
    "# model = Sequential()\n",
    "# model.add()"
   ]
  },
  {
   "cell_type": "code",
   "execution_count": null,
   "id": "c5b19a63",
   "metadata": {},
   "outputs": [],
   "source": [
    "###  結果の出力\n",
    "result_file_name = 'outputs/' + model_name + '_' + str(i+1) + '.csv'\n",
    "df_result.to_csv(result_file_name, index=False)"
   ]
  }
 ],
 "metadata": {
  "kernelspec": {
   "display_name": "Python 3",
   "language": "python",
   "name": "python3"
  },
  "language_info": {
   "codemirror_mode": {
    "name": "ipython",
    "version": 3
   },
   "file_extension": ".py",
   "mimetype": "text/x-python",
   "name": "python",
   "nbconvert_exporter": "python",
   "pygments_lexer": "ipython3",
   "version": "3.9.6"
  }
 },
 "nbformat": 4,
 "nbformat_minor": 5
}
