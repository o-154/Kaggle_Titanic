{
 "cells": [
  {
   "cell_type": "code",
   "execution_count": 1,
   "id": "364c9787",
   "metadata": {},
   "outputs": [],
   "source": [
    "import pandas as pd"
   ]
  },
  {
   "cell_type": "code",
   "execution_count": 2,
   "id": "80d9122e",
   "metadata": {},
   "outputs": [],
   "source": [
    "df_gs = pd.read_csv('titanic_data/gender_submission.csv')\n",
    "df_test = pd.read_csv('titanic_data/test.csv')\n",
    "df_train = pd.read_csv('titanic_data/train.csv')"
   ]
  }
 ],
 "metadata": {
  "kernelspec": {
   "display_name": "Python 3",
   "language": "python",
   "name": "python3"
  },
  "language_info": {
   "codemirror_mode": {
    "name": "ipython",
    "version": 3
   },
   "file_extension": ".py",
   "mimetype": "text/x-python",
   "name": "python",
   "nbconvert_exporter": "python",
   "pygments_lexer": "ipython3",
   "version": "3.9.6"
  }
 },
 "nbformat": 4,
 "nbformat_minor": 5
}
